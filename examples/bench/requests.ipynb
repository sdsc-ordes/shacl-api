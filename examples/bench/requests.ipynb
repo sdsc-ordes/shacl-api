{
 "cells": [
  {
   "cell_type": "code",
   "execution_count": 70,
   "metadata": {},
   "outputs": [
    {
     "name": "stdout",
     "output_type": "stream",
     "text": [
      "<class 'bytes'>\n"
     ]
    },
    {
     "data": {
      "text/plain": [
       "'@prefix :        <https://epfl.ch/example/> .\\n@prefix bio:     <https://bioschemas.org/> .\\n@prefix dash:    <http://datashapes.org/dash#> .\\n@prefix dcterms: <http://purl.org/dc/terms/> .\\n@prefix ex:      <http://example.com/ns#> .\\n@prefix graphql: <http://datashapes.org/graphql#> .\\n@prefix md4i:    <http://w3id.org/nfdi4ing/metadata4ing#> .\\n@prefix owl:     <http://www.w3.org/2002/07/owl#> .\\n@prefix rdf:     <http://www.w3.org/1999/02/22-rdf-syntax-ns#> .\\n@prefix rdfs:    <http://www.w3.org/2000/01/rdf-schema#> .\\n@prefix schema:  <http://schema.org/> .\\n@prefix sd:      <https://w3id.org/okn/o/sd#> .\\n@prefix sh:      <http://www.w3.org/ns/shacl#> .\\n@prefix shsh:    <http://www.w3.org/ns/shacl-shacl#> .\\n@prefix skos:    <http://www.w3.org/2004/02/skos/core#> .\\n@prefix spe:     <https://openschemas.github.io/spec-container/specifications/> .\\n@prefix swa:     <http://topbraid.org/swa#> .\\n@prefix tosh:    <http://topbraid.org/tosh#> .\\n@prefix xsd:     <http://www.w3.org/2001/XMLSchema#> .\\n\\n[ rdf:type     sh:ValidationReport ;\\n  sh:conforms  false ;\\n  sh:result    [ rdf:type                      sh:ValidationResult ;\\n                 sh:focusNode                  :ValidSubmission ;\\n                 sh:resultMessage              \"Value must be a valid literal of type string\" ;\\n                 sh:resultPath                 schema:citation ;\\n                 sh:resultSeverity             sh:Violation ;\\n                 sh:sourceConstraintComponent  sh:DatatypeConstraintComponent ;\\n                 sh:sourceShape                schema:CreativeWork-citation ;\\n                 sh:value                      <https://en.wikipedia.org/wiki/Optical_flow>\\n               ] ;\\n  sh:result    [ rdf:type                      sh:ValidationResult ;\\n                 sh:focusNode                  :ValidSubmission ;\\n                 sh:resultMessage              \"Property needs to have at least 1 value\" ;\\n                 sh:resultPath                 schema:license ;\\n                 sh:resultSeverity             sh:Violation ;\\n                 sh:sourceConstraintComponent  sh:MinCountConstraintComponent ;\\n                 sh:sourceShape                schema:CreativeWork-license\\n               ] ;\\n  sh:result    [ rdf:type                      sh:ValidationResult ;\\n                 sh:focusNode                  :ValidSubmission ;\\n                 sh:resultMessage              \"Value must be a valid literal of type string\" ;\\n                 sh:resultPath                 sd:hasAcknowledgements ;\\n                 sh:resultSeverity             sh:Violation ;\\n                 sh:sourceConstraintComponent  sh:DatatypeConstraintComponent ;\\n                 sh:sourceShape                sd:SoftwareApplication-hasAcknowledgements ;\\n                 sh:value                      1234\\n               ] ;\\n  sh:result    [ rdf:type                      sh:ValidationResult ;\\n                 sh:focusNode                  :ValidSubmission ;\\n                 sh:resultMessage              \"Value does not have node kind IRI\" ;\\n                 sh:resultPath                 schema:url ;\\n                 sh:resultSeverity             sh:Violation ;\\n                 sh:sourceConstraintComponent  sh:NodeKindConstraintComponent ;\\n                 sh:sourceShape                schema:Thing-url ;\\n                 sh:value                      \"not a url\"\\n               ] ;\\n  sh:result    [ rdf:type                      sh:ValidationResult ;\\n                 sh:focusNode                  :ValidSubmission ;\\n                 sh:resultMessage              \"Property needs to have at least 1 value\" ;\\n                 sh:resultPath                 ex:fairLevel ;\\n                 sh:resultSeverity             sh:Violation ;\\n                 sh:sourceConstraintComponent  sh:MinCountConstraintComponent ;\\n                 sh:sourceShape                ex:fairLevelShape\\n               ] ;\\n  sh:result    [ rdf:type                      sh:ValidationResult ;\\n                 sh:focusNode                  :ValidSubmission ;\\n                 sh:resultMessage              \"Not a value from the sh:in enumeration\" ;\\n                 sh:resultPath                 ex:imagingModality ;\\n                 sh:resultSeverity             sh:Violation ;\\n                 sh:sourceConstraintComponent  sh:InConstraintComponent ;\\n                 sh:sourceShape                ex:SoftwareApplication-imagingModalityShape ;\\n                 sh:value                      \"RGB\"\\n               ] ;\\n  sh:result    [ rdf:type                      sh:ValidationResult ;\\n                 sh:focusNode                  :ValidSubmission ;\\n                 sh:resultMessage              \"Value does not match pattern \\\\\"(/^10\\\\\\\\.\\\\\\\\d{4,9}[-._;()/:A-Z0-9]+$/i)\\\\\"\" ;\\n                 sh:resultPath                 schema:citation ;\\n                 sh:resultSeverity             sh:Violation ;\\n                 sh:sourceConstraintComponent  sh:PatternConstraintComponent ;\\n                 sh:sourceShape                schema:CreativeWork-citation ;\\n                 sh:value                      <https://en.wikipedia.org/wiki/Optical_flow>\\n               ] ;\\n  sh:result    [ rdf:type                      sh:ValidationResult ;\\n                 sh:focusNode                  :ValidSubmission ;\\n                 sh:resultMessage              \"Value must have at least one of the following shapes: _:77900d23b482b472aab91a9f23bbf8c0, _:f170912fe243ca1029e321e337b02caf\" ;\\n                 sh:resultPath                 schema:image ;\\n                 sh:resultSeverity             sh:Violation ;\\n                 sh:sourceConstraintComponent  sh:OrConstraintComponent ;\\n                 sh:sourceShape                schema:Thing-image ;\\n                 sh:value                      \"https://gricad-gitlab.univ-grenoble-alpes.fr/uploads/-/system/project/avatar/64/logo.png?width=64\"\\n               ]\\n] .\\n'"
      ]
     },
     "execution_count": 70,
     "metadata": {},
     "output_type": "execute_result"
    }
   ],
   "source": [
    "# Requests\n",
    "\n",
    "import requests \n",
    "import base64\n",
    "\n",
    "# with open('../tests/tests-files/val_imagingID.ttl', 'r') as file:\n",
    "#     datafile = file.read().rstrip()\n",
    "\n",
    "# with open('../tests/tests-files/val_ImagingOntologyShapes.ttl', 'r') as file:\n",
    "#     shapesfile = file.read().rstrip()\n",
    "\n",
    "# datafile64 = base64.b64encode(bytes(datafile, 'utf-8')) #, encoding='ascii')\n",
    "# shapesfile64 = base64.b64encode(bytes(shapesfile, 'utf-8'))#, encoding='ascii')\n",
    "\n",
    "with open('../tests/tests-files/val_imagingID.ttl', 'rb') as file:\n",
    "    datafile = file.read()\n",
    "\n",
    "with open('../tests/tests-files/val_ImagingOntologyShapes.ttl', 'rb') as file:\n",
    "    shapesfile = file.read()\n",
    "\n",
    "datafile64 = base64.b64encode(datafile) \n",
    "shapesfile64 = base64.b64encode(shapesfile)\n",
    "\n",
    "print(type(datafile64))\n",
    "\n",
    "payload = {\"datafile\": datafile64,\n",
    "           \"shapesfile\": shapesfile64}\n",
    "\n",
    "url = \"http://127.0.0.1:8000/validate\"\n",
    "r = requests.post(url, data=payload)\n",
    "\n",
    "r.json()[\"output\"]"
   ]
  },
  {
   "cell_type": "code",
   "execution_count": 59,
   "metadata": {},
   "outputs": [
    {
     "data": {
      "text/plain": [
       "'\"Hola\"'"
      ]
     },
     "execution_count": 59,
     "metadata": {},
     "output_type": "execute_result"
    }
   ],
   "source": [
    "url = \"http://127.0.0.1:8000/validate\"\n",
    "r = requests.post(url, data={\"datafile\":\"Hola\", \"shapesfile\": \"hola\"})\n",
    "r.text"
   ]
  },
  {
   "attachments": {},
   "cell_type": "markdown",
   "metadata": {},
   "source": [
    "# Perform a request with json-ld"
   ]
  },
  {
   "cell_type": "code",
   "execution_count": 11,
   "metadata": {},
   "outputs": [
    {
     "data": {
      "text/plain": [
       "'[\\n  {\\n    \"@id\": \"https://epfl.ch/example/EPFLImagingLab\",\\n    \"@type\": [\\n      \"http://schema.org/Organization\"\\n    ],\\n    \"http://schema.org/legalName\": [\\n      {\\n        \"@value\": \"EPFL Imaging Lab\"\\n      }\\n    ],\\n    \"http://w3id.org/nfdi4ing/metadata4ing#hasRorId\": [\\n      {\\n        \"@value\": \"EPFL\"\\n      }\\n    ]\\n  },\\n  {\\n    \"@id\": \"https://epfl.ch/example/ValidSubmission\",\\n    \"@type\": [\\n      \"http://schema.org/SoftwareSourceCode\"\\n    ],\\n    \"http://example.com/ns#imagingModality\": [\\n      {\\n        \"@value\": \"RGB\"\\n      }\\n    ],\\n    \"http://schema.org/applicationCategory\": [\\n      {\\n        \"@value\": \"Optical flow\"\\n      }\\n    ],\\n    \"http://schema.org/citation\": [\\n      {\\n        \"@id\": \"https://en.wikipedia.org/wiki/Optical_flow\"\\n      }\\n    ],\\n    \"http://schema.org/codeRepository\": [\\n      {\\n        \"@id\": \"https://gricad-gitlab.univ-grenoble-alpes.fr/ttk/spam\"\\n      }\\n    ],\\n    \"http://schema.org/conditionsOfAccess\": [\\n      {\\n        \"@value\": \"Free access\"\\n      }\\n    ],\\n    \"http://schema.org/dateCreated\": [\\n      {\\n        \"@type\": \"http://www.w3.org/2001/XMLSchema#date\",\\n        \"@value\": \"2022-09-22\"\\n      }\\n    ],\\n    \"http://schema.org/datePublished\": [\\n      {\\n        \"@type\": \"http://www.w3.org/2001/XMLSchema#date\",\\n        \"@value\": \"2022-09-26\"\\n      }\\n    ],\\n    \"http://schema.org/description\": [\\n      {\\n        \"@value\": \"Spam is a piece of Python software built upon NumPy and SciPy\\\\r\\\\nfor the analysis and manipulation of 3D and 2D data sets in\\\\r\\\\nmaterial science, be they from x-ray tomography, random fields\\\\r\\\\nor any other source.\\\\r\\\\nA number of common functions are provided that are\\\\r\\\\neither lacking or slow in Numpy and Scipy, which are expected\\\\r\\\\nto be used by users within new python scripts.\\\\r\\\\nThese functions are in the tools/ directory, and include tools\\\\r\\\\nto work with random fields, morphological operations, digital\\\\r\\\\nimage correlation, and labelled images.\\\\r\\\\nSome of spam\\'s functions transparently call C/C++ functions\\\\r\\\\nfor speed.\\\\r\\\\nSome user-callable scipts are also provided -- they are more\\\\r\\\\ncomplex pieces of code that combine a number of functions and\\\\r\\\\nwhich have a command-line interface.\\\\r\\\\nFor the moment the scripts are 3 different image correlation\\\\r\\\\ntechniques.\"\\n      }\\n    ],\\n    \"http://schema.org/featureList\": [\\n      {\\n        \"@value\": \"Digital Image correlation\"\\n      }\\n    ],\\n    \"http://schema.org/hasDocumentation\": [\\n      {\\n        \"@id\": \"https://ttk.gricad-pages.univ-grenoble-alpes.fr/spam/index.html\"\\n      }\\n    ],\\n    \"http://schema.org/hasExecutableInstructions\": [\\n      {\\n        \"@id\": \"https://ttk.gricad-pages.univ-grenoble-alpes.fr/spam/gettingStarted.html\"\\n      }\\n    ],\\n    \"http://schema.org/identifier\": [\\n      {\\n        \"@value\": \"64\"\\n      }\\n    ],\\n    \"http://schema.org/image\": [\\n      {\\n        \"@value\": \"https://gricad-gitlab.univ-grenoble-alpes.fr/uploads/-/system/project/avatar/64/logo.png?width=64\"\\n      }\\n    ],\\n    \"http://schema.org/isBasedOn\": [\\n      {\\n        \"@id\": \"https://google.com\"\\n      }\\n    ],\\n    \"http://schema.org/license\": [\\n      {\\n        \"@id\": \"https://spdx.org/licenses/AGPL-3.0-only.html\"\\n      }\\n    ],\\n    \"http://schema.org/maintainer\": [\\n      {\\n        \"@id\": \"https://epfl.ch/example/eddy\"\\n      }\\n    ],\\n    \"http://schema.org/name\": [\\n      {\\n        \"@value\": \"SPAM (Software for Practical Analysis of Materials)\"\\n      }\\n    ],\\n    \"http://schema.org/operatingSystem\": [\\n      {\\n        \"@value\": \"windows 10\"\\n      }\\n    ],\\n    \"http://schema.org/producer\": [\\n      {\\n        \"@id\": \"https://epfl.ch/example/EPFLImagingLab\"\\n      }\\n    ],\\n    \"http://schema.org/programmingLanguage\": [\\n      {\\n        \"@value\": \"Python\"\\n      }\\n    ],\\n    \"http://schema.org/softwareVersion\": [\\n      {\\n        \"@value\": \"1.2.3\"\\n      }\\n    ],\\n    \"http://schema.org/status\": [\\n      {\\n        \"@value\": \"Draft\"\\n      }\\n    ],\\n    \"http://schema.org/url\": [\\n      {\\n        \"@id\": \"https://medium.com\"\\n      },\\n      {\\n        \"@value\": \"not a url\"\\n      }\\n    ],\\n    \"https://w3id.org/okn/o/sd#hasAcknowledgements\": [\\n      {\\n        \"@value\": 1234\\n      }\\n    ],\\n    \"https://w3id.org/okn/o/sd#readme\": [\\n      {\\n        \"@id\": \"https://gricad-gitlab.univ-grenoble-alpes.fr/ttk/spam/-/blob/master/README.rst\"\\n      }\\n    ]\\n  },\\n  {\\n    \"@id\": \"https://epfl.ch/example/eddy\",\\n    \"@type\": [\\n      \"http://schema.org/Person\"\\n    ],\\n    \"http://schema.org/email\": [\\n      {\\n        \"@value\": \"eddy@eddy.com\"\\n      }\\n    ],\\n    \"http://schema.org/familyName\": [\\n      {\\n        \"@value\": \"Ando\"\\n      }\\n    ],\\n    \"http://schema.org/givenName\": [\\n      {\\n        \"@value\": \"Edward\"\\n      }\\n    ],\\n    \"http://w3id.org/nfdi4ing/metadata4ing#orcidId\": [\\n      {\\n        \"@value\": \"1234.1234.1234.234.\"\\n      }\\n    ]\\n  }\\n]'"
      ]
     },
     "execution_count": 11,
     "metadata": {},
     "output_type": "execute_result"
    }
   ],
   "source": [
    "from rdflib import Graph\n",
    "from rdflib.namespace import Namespace, NamespaceManager\n",
    "graph = Graph()\n",
    "graph.parse('../tests/tests-files/inf_imagingID.ttl', format='turtle')\n",
    "\n",
    "#SCHEMA = Namespace(\"http://schema.org/\")\n",
    "#graph.namespace_manager.bind('schema', SCHEMA, override=True, replace=True)\n",
    "\n",
    "jsonld = str(graph.serialize(format='json-ld'))\n",
    "jsonld"
   ]
  },
  {
   "cell_type": "code",
   "execution_count": 21,
   "metadata": {},
   "outputs": [
    {
     "data": {
      "text/plain": [
       "[{'@id': 'https://epfl.ch/example/EPFLImagingLab',\n",
       "  '@type': ['http://schema.org/Organization'],\n",
       "  'http://schema.org/legalName': [{'@value': 'EPFL Imaging Lab'}],\n",
       "  'http://w3id.org/nfdi4ing/metadata4ing#hasRorId': [{'@value': 'EPFL'}]},\n",
       " {'@id': 'https://epfl.ch/example/ValidSubmission',\n",
       "  '@type': ['http://schema.org/SoftwareSourceCode'],\n",
       "  'http://example.com/ns#imagingModality': [{'@value': 'RGB'}],\n",
       "  'http://schema.org/applicationCategory': [{'@value': 'Optical flow'}],\n",
       "  'http://schema.org/citation': [{'@id': 'https://en.wikipedia.org/wiki/Optical_flow'}],\n",
       "  'http://schema.org/codeRepository': [{'@id': 'https://gricad-gitlab.univ-grenoble-alpes.fr/ttk/spam'}],\n",
       "  'http://schema.org/conditionsOfAccess': [{'@value': 'Free access'}],\n",
       "  'http://schema.org/dateCreated': [{'@type': 'http://www.w3.org/2001/XMLSchema#date',\n",
       "    '@value': '2022-09-22'}],\n",
       "  'http://schema.org/datePublished': [{'@type': 'http://www.w3.org/2001/XMLSchema#date',\n",
       "    '@value': '2022-09-26'}],\n",
       "  'http://schema.org/description': [{'@value': \"Spam is a piece of Python software built upon NumPy and SciPy\\r\\nfor the analysis and manipulation of 3D and 2D data sets in\\r\\nmaterial science, be they from x-ray tomography, random fields\\r\\nor any other source.\\r\\nA number of common functions are provided that are\\r\\neither lacking or slow in Numpy and Scipy, which are expected\\r\\nto be used by users within new python scripts.\\r\\nThese functions are in the tools/ directory, and include tools\\r\\nto work with random fields, morphological operations, digital\\r\\nimage correlation, and labelled images.\\r\\nSome of spam's functions transparently call C/C++ functions\\r\\nfor speed.\\r\\nSome user-callable scipts are also provided -- they are more\\r\\ncomplex pieces of code that combine a number of functions and\\r\\nwhich have a command-line interface.\\r\\nFor the moment the scripts are 3 different image correlation\\r\\ntechniques.\"}],\n",
       "  'http://schema.org/featureList': [{'@value': 'Digital Image correlation'}],\n",
       "  'http://schema.org/hasDocumentation': [{'@id': 'https://ttk.gricad-pages.univ-grenoble-alpes.fr/spam/index.html'}],\n",
       "  'http://schema.org/hasExecutableInstructions': [{'@id': 'https://ttk.gricad-pages.univ-grenoble-alpes.fr/spam/gettingStarted.html'}],\n",
       "  'http://schema.org/identifier': [{'@value': '64'}],\n",
       "  'http://schema.org/image': [{'@value': 'https://gricad-gitlab.univ-grenoble-alpes.fr/uploads/-/system/project/avatar/64/logo.png?width=64'}],\n",
       "  'http://schema.org/isBasedOn': [{'@id': 'https://google.com'}],\n",
       "  'http://schema.org/license': [{'@id': 'https://spdx.org/licenses/AGPL-3.0-only.html'}],\n",
       "  'http://schema.org/maintainer': [{'@id': 'https://epfl.ch/example/eddy'}],\n",
       "  'http://schema.org/name': [{'@value': 'SPAM (Software for Practical Analysis of Materials)'}],\n",
       "  'http://schema.org/operatingSystem': [{'@value': 'windows 10'}],\n",
       "  'http://schema.org/producer': [{'@id': 'https://epfl.ch/example/EPFLImagingLab'}],\n",
       "  'http://schema.org/programmingLanguage': [{'@value': 'Python'}],\n",
       "  'http://schema.org/softwareVersion': [{'@value': '1.2.3'}],\n",
       "  'http://schema.org/status': [{'@value': 'Draft'}],\n",
       "  'http://schema.org/url': [{'@id': 'https://medium.com'},\n",
       "   {'@value': 'not a url'}],\n",
       "  'https://w3id.org/okn/o/sd#hasAcknowledgements': [{'@value': 1234}],\n",
       "  'https://w3id.org/okn/o/sd#readme': [{'@id': 'https://gricad-gitlab.univ-grenoble-alpes.fr/ttk/spam/-/blob/master/README.rst'}]},\n",
       " {'@id': 'https://epfl.ch/example/eddy',\n",
       "  '@type': ['http://schema.org/Person'],\n",
       "  'http://schema.org/email': [{'@value': 'eddy@eddy.com'}],\n",
       "  'http://schema.org/familyName': [{'@value': 'Ando'}],\n",
       "  'http://schema.org/givenName': [{'@value': 'Edward'}],\n",
       "  'http://w3id.org/nfdi4ing/metadata4ing#orcidId': [{'@value': '1234.1234.1234.234.'}]}]"
      ]
     },
     "execution_count": 21,
     "metadata": {},
     "output_type": "execute_result"
    }
   ],
   "source": [
    "import json as js\n",
    "js.loads(jsonld)"
   ]
  },
  {
   "cell_type": "code",
   "execution_count": 15,
   "metadata": {},
   "outputs": [
    {
     "name": "stdout",
     "output_type": "stream",
     "text": [
      "[\n",
      "  {\n",
      "    \"@id\": \"https://epfl.ch/example/ValidSubmission\",\n",
      "    \"http://example.com/ns#fairLevel\": [\n",
      "      {\n",
      "        \"@value\": \"Fair level 0\"\n",
      "      }\n",
      "    ]\n",
      "  }\n",
      "]\n"
     ]
    }
   ],
   "source": [
    "import requests\n",
    "\n",
    "payload = {\"data\": jsonld}\n",
    "\n",
    "url = \"http://imagingplazadev:7200/inference-jsonld\"\n",
    "#url = \"http://127.0.0.1:7200/validate-jsonld\"\n",
    "r = requests.post(url, json=payload)\n",
    "\n",
    "print(r.json()[\"jsonldOutput\"])"
   ]
  },
  {
   "cell_type": "code",
   "execution_count": null,
   "metadata": {},
   "outputs": [],
   "source": [
    "import pprint \n",
    "#pprint.pprint(r.json()[\"output\"])\n",
    "print(r.json()[\"output\"])"
   ]
  },
  {
   "cell_type": "code",
   "execution_count": 25,
   "metadata": {},
   "outputs": [
    {
     "name": "stdout",
     "output_type": "stream",
     "text": [
      "@prefix schema: <http://schema.org/> .\n",
      "@prefix sh: <http://www.w3.org/ns/shacl#> .\n",
      "@prefix xsd: <http://www.w3.org/2001/XMLSchema#> .\n",
      "\n",
      "[] a sh:ValidationReport ;\n",
      "    sh:conforms false ;\n",
      "    sh:result [ a sh:ValidationResult ;\n",
      "            sh:focusNode <https://epfl.ch/example/ValidSubmission> ;\n",
      "            sh:resultMessage \"Value must be a valid literal of type string\" ;\n",
      "            sh:resultPath schema:citation ;\n",
      "            sh:resultSeverity sh:Violation ;\n",
      "            sh:sourceConstraintComponent sh:DatatypeConstraintComponent ;\n",
      "            sh:sourceShape schema:CreativeWork-citation ;\n",
      "            sh:value <https://en.wikipedia.org/wiki/Optical_flow> ],\n",
      "        [ a sh:ValidationResult ;\n",
      "            sh:focusNode <https://epfl.ch/example/ValidSubmission> ;\n",
      "            sh:resultMessage \"Value does not have node kind IRI\" ;\n",
      "            sh:resultPath schema:url ;\n",
      "            sh:resultSeverity sh:Violation ;\n",
      "            sh:sourceConstraintComponent sh:NodeKindConstraintComponent ;\n",
      "            sh:sourceShape schema:Thing-url ;\n",
      "            sh:value \"not a url\" ],\n",
      "        [ a sh:ValidationResult ;\n",
      "            sh:focusNode <https://epfl.ch/example/ValidSubmission> ;\n",
      "            sh:resultMessage \"Property needs to have at least 1 value\" ;\n",
      "            sh:resultPath <http://example.com/ns#fairLevel> ;\n",
      "            sh:resultSeverity sh:Violation ;\n",
      "            sh:sourceConstraintComponent sh:MinCountConstraintComponent ;\n",
      "            sh:sourceShape <http://example.com/ns#fairLevelShape> ],\n",
      "        [ a sh:ValidationResult ;\n",
      "            sh:focusNode <https://epfl.ch/example/ValidSubmission> ;\n",
      "            sh:resultMessage \"Value must have at least one of the following shapes: _:432f8951f69b3fac080a13786023eaef, _:56409aaa212627dcb345973d9e1c50ec\" ;\n",
      "            sh:resultPath schema:image ;\n",
      "            sh:resultSeverity sh:Violation ;\n",
      "            sh:sourceConstraintComponent sh:OrConstraintComponent ;\n",
      "            sh:sourceShape schema:Thing-image ;\n",
      "            sh:value \"https://gricad-gitlab.univ-grenoble-alpes.fr/uploads/-/system/project/avatar/64/logo.png?width=64\" ],\n",
      "        [ a sh:ValidationResult ;\n",
      "            sh:focusNode <https://epfl.ch/example/ValidSubmission> ;\n",
      "            sh:resultMessage \"Not a value from the sh:in enumeration\" ;\n",
      "            sh:resultPath <http://example.com/ns#imagingModality> ;\n",
      "            sh:resultSeverity sh:Violation ;\n",
      "            sh:sourceConstraintComponent sh:InConstraintComponent ;\n",
      "            sh:sourceShape <http://example.com/ns#SoftwareApplication-imagingModalityShape> ;\n",
      "            sh:value \"RGB\" ],\n",
      "        [ a sh:ValidationResult ;\n",
      "            sh:focusNode <https://epfl.ch/example/ValidSubmission> ;\n",
      "            sh:resultMessage \"Property needs to have at least 1 value\" ;\n",
      "            sh:resultPath schema:license ;\n",
      "            sh:resultSeverity sh:Violation ;\n",
      "            sh:sourceConstraintComponent sh:MinCountConstraintComponent ;\n",
      "            sh:sourceShape schema:CreativeWork-license ],\n",
      "        [ a sh:ValidationResult ;\n",
      "            sh:focusNode <https://epfl.ch/example/ValidSubmission> ;\n",
      "            sh:resultMessage \"Value does not match pattern \\\"(/^10\\\\.\\\\d{4,9}[-._;()/:A-Z0-9]+$/i)\\\"\" ;\n",
      "            sh:resultPath schema:citation ;\n",
      "            sh:resultSeverity sh:Violation ;\n",
      "            sh:sourceConstraintComponent sh:PatternConstraintComponent ;\n",
      "            sh:sourceShape schema:CreativeWork-citation ;\n",
      "            sh:value <https://en.wikipedia.org/wiki/Optical_flow> ],\n",
      "        [ a sh:ValidationResult ;\n",
      "            sh:focusNode <https://epfl.ch/example/ValidSubmission> ;\n",
      "            sh:resultMessage \"Value must be a valid literal of type string\" ;\n",
      "            sh:resultPath <https://w3id.org/okn/o/sd#hasAcknowledgements> ;\n",
      "            sh:resultSeverity sh:Violation ;\n",
      "            sh:sourceConstraintComponent sh:DatatypeConstraintComponent ;\n",
      "            sh:sourceShape <https://w3id.org/okn/o/sd#SoftwareApplication-hasAcknowledgements> ;\n",
      "            sh:value 1234 ] .\n",
      "\n",
      "\n"
     ]
    }
   ],
   "source": [
    "graph = Graph()\n",
    "graph.parse(data=r.json()[\"output\"], format='json-ld')\n",
    "\n",
    "SCHEMA = Namespace(\"http://schema.org/\")\n",
    "graph.namespace_manager.bind('schema', SCHEMA, override=True, replace=True)\n",
    "\n",
    "turtle = str(graph.serialize(format='turtle'))\n",
    "print(turtle)"
   ]
  }
 ],
 "metadata": {
  "kernelspec": {
   "display_name": "base",
   "language": "python",
   "name": "python3"
  },
  "language_info": {
   "codemirror_mode": {
    "name": "ipython",
    "version": 3
   },
   "file_extension": ".py",
   "mimetype": "text/x-python",
   "name": "python",
   "nbconvert_exporter": "python",
   "pygments_lexer": "ipython3",
   "version": "3.9.13"
  },
  "orig_nbformat": 4
 },
 "nbformat": 4,
 "nbformat_minor": 2
}
